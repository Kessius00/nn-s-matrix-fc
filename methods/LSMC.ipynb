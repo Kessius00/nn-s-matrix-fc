{
 "cells": [
  {
   "cell_type": "code",
   "execution_count": null,
   "metadata": {},
   "outputs": [],
   "source": [
    "import matplotlib.pyplot as plt\n",
    "import matplotlib.colors as mcolors\n",
    "import numpy as np\n",
    "import time\n",
    "import random\n",
    "from scipy.stats import poisson, norm\n"
   ]
  },
  {
   "cell_type": "code",
   "execution_count": null,
   "metadata": {},
   "outputs": [],
   "source": [
    "# handige functies voor gaandeweg\n",
    "def shrinkage_operator(x, phi):\n",
    "    # Apply the shrinkage (soft-thresholding) operator element-wise\n",
    "    return np.where(x > phi, x - phi, np.where(x < -phi, x + phi, 0))\n",
    "\n",
    "\n",
    "def orthogonal_projection(x, t):\n",
    "    # In de paper weergegeven als P_K \n",
    "    norm_x = np.linalg.norm(x)  # Frobenius norm for the vector x\n",
    "    if norm_x <= t:\n",
    "        return np.array([x, t])\n",
    "    elif -norm_x <= t <= norm_x:\n",
    "        scale = (norm_x + t) / (2 * norm_x)\n",
    "        return np.array([scale * x, scale * norm_x])\n",
    "    else:\n",
    "        return np.array([0, 0])\n",
    "\n"
   ]
  }
 ],
 "metadata": {
  "language_info": {
   "name": "python"
  }
 },
 "nbformat": 4,
 "nbformat_minor": 2
}
