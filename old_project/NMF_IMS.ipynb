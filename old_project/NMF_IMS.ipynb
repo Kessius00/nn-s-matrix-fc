{
 "cells": [
  {
   "cell_type": "code",
   "execution_count": 3,
   "id": "6804d91c",
   "metadata": {},
   "outputs": [],
   "source": [
    "import numpy as np\n",
    "from Helpers import *\n",
    "from mainSVT import *\n",
    "import time\n",
    "import random\n",
    "import matplotlib.pyplot as plt\n",
    "import scipy.sparse as sp\n",
    "from sklearn.decomposition import NMF\n"
   ]
  },
  {
   "cell_type": "code",
   "execution_count": 4,
   "id": "92102b8b",
   "metadata": {},
   "outputs": [],
   "source": [
    "\n",
    "# Set random seed for reproducibility\n",
    "np.random.seed(42)\n",
    "\n",
    "# Load the data from the specified .npz file\n",
    "file = np.load(\".\\\\data\\\\2024-03-29-data.npz\")\n",
    "\n",
    "# Extract the necessary components from the file\n",
    "data = file['data']               # Raw Data\n",
    "mz_values = file['mz_values']     # Corresponding mz-values\n",
    "image_size = file['image_size']   # Size of the image\n",
    "mz_picks = file['mz_picks']       # Selected mz-ids\n",
    "num = file['num']                 # Number of picks"
   ]
  },
  {
   "cell_type": "code",
   "execution_count": 6,
   "id": "1f35c3ef",
   "metadata": {},
   "outputs": [
    {
     "data": {
      "text/plain": [
       "2.260112"
      ]
     },
     "execution_count": 6,
     "metadata": {},
     "output_type": "execute_result"
    }
   ],
   "source": [
    "# \n",
    "def create_sparse_random_matrix(rank, rows, cols, density=0.1):\n",
    "    \"\"\"\n",
    "    Create a sparse random matrix with given rank and dimensions.\n",
    "\n",
    "    Parameters:\n",
    "    rank (int): The rank of the matrix.\n",
    "    rows (int): The number of rows of the matrix.\n",
    "    cols (int): The number of columns of the matrix.\n",
    "    density (float): The density of the sparse matrix.\n",
    "\n",
    "    Returns:\n",
    "    scipy.sparse.csr_matrix: The sparse random matrix.\n",
    "    \"\"\"\n",
    "    # Generate two random matrices for low-rank decomposition\n",
    "    A = np.random.randn(rows, rank)\n",
    "    B = np.random.randn(rank, cols)\n",
    "\n",
    "    # Create the low-rank matrix\n",
    "    low_rank_matrix = np.dot(A, B)\n",
    "\n",
    "    # Create a sparse mask\n",
    "    mask = sp.random(rows, cols, density=density, format='csr', data_rvs=np.ones).astype(bool)\n",
    "\n",
    "    # Apply the mask to the low-rank matrix\n",
    "    sparse_matrix = sp.csr_matrix(low_rank_matrix * mask.toarray())\n",
    "\n",
    "    return sparse_matrix\n",
    "\n",
    "\n",
    "def calculate_sparsity(matrix):\n",
    "    \"\"\"\n",
    "    Calculate the sparsity of a matrix.\n",
    "\n",
    "    Parameters:\n",
    "    matrix (numpy.ndarray or scipy.sparse.spmatrix): The matrix.\n",
    "\n",
    "    Returns:\n",
    "    float: The sparsity percentage of the matrix.\n",
    "    \"\"\"\n",
    "    # Convert numpy matrix to sparse matrix if necessary\n",
    "    if isinstance(matrix, np.ndarray):\n",
    "        matrix = sp.csr_matrix(matrix)\n",
    "\n",
    "    # Calculate total elements, zero elements, and sparsity\n",
    "    total_elements = matrix.shape[0] * matrix.shape[1]\n",
    "    zero_elements = total_elements - matrix.nnz\n",
    "    sparsity = (zero_elements / total_elements) * 100\n",
    "    \n",
    "    return sparsity\n",
    "\n",
    "\n",
    "def massbinImageComparisonGPT(massbin_of_interest, data, sampled_data, reconstructed_data, colormap='cubehelix'):\n",
    "    colormaps = [colormap]*3\n",
    "    \n",
    "    data_matrix = data[:, massbin_of_interest].reshape((500, 100))\n",
    "    sampled_data_matrix = sampled_data[:, massbin_of_interest].reshape((500, 100))\n",
    "    reconstructed_data_matrix = reconstructed_data[:, massbin_of_interest].reshape((500, 100))\n",
    "    \n",
    "    fig, axes = plt.subplots(1, 3, figsize=(20, 10))  # Create a figure with 1 row and 3 columns\n",
    "    \n",
    "    # Plot each matrix with its respective colormap\n",
    "    min_val = np.min(data_matrix)\n",
    "    max_val = np.max(data_matrix)\n",
    "    for ax, matrix, cmap, title in zip(axes, [data_matrix, reconstructed_data_matrix,sampled_data_matrix], colormaps, ['Original Data', 'Reconstructed Data', 'Sampled Data']):\n",
    "        cax = ax.imshow(matrix, aspect='equal', cmap=cmap, vmin=min_val, vmax=max_val)  # Set aspect to 'equal' and use same limits as original data\n",
    "        ax.set_title(f'{title} Colormap')\n",
    "        fig.colorbar(cax, ax=ax)\n",
    "    \n",
    "    # Add overall title and show the plot\n",
    "    fig.suptitle(f'Side by Side Comparison of Data, Reconstruction and Sampled Data of Massbin {massbin_of_interest}', fontsize=16)\n",
    "    plt.show() \n",
    "    \n",
    "def normalizeData(data):\n",
    "    # Normalize the data\n",
    "    row_max = data.max(axis=1)\n",
    "    n_data = data / row_max[:, np.newaxis]\n",
    "    n_data = n_data.T\n",
    "    return n_data, row_max\n",
    "\n",
    "def denormalizeData(n_data, row_max):\n",
    "    # Denormalize the data\n",
    "    denormalized_data = n_data.T * row_max[:, np.newaxis]\n",
    "    return denormalized_data\n",
    "\n",
    "\n",
    "def run_nmf_and_compute_error(data, keep_ratio, tolerance=1e-4, max_iter=150, rank=50):\n",
    "    data_sampled, coords, coords_TF, M_sampled_nans = sample_from_matrix(data, ratio_to_keep=keep_ratio, seed=random.randint(0,2000))\n",
    "    n_data_sampled, row_max = normalizeData(data_sampled)\n",
    "    \n",
    "    model = NMF(rank, init=\"random\", solver='mu', max_iter=100, random_state=42)\n",
    "    \n",
    "    # Fit the model to the data\n",
    "    W = model.fit_transform(n_data_sampled)\n",
    "\n",
    "    # Get the H matrix\n",
    "    H = model.components_\n",
    "    \n",
    "    X_n_opt = np.dot(W,H)\n",
    "    \n",
    "    spars = calculate_sparsity(H)\n",
    "\n",
    "    X_reconstructed = denormalizeData(X_n_opt, row_max)\n",
    "    print(spars)\n",
    "    \n",
    "    \n",
    "    g_error = general_error_relative(data, X_reconstructed)\n",
    "    is_error = insampling_error_relative(data_sampled, X_reconstructed, coords_TF)\n",
    "    os_error = out_of_sample_error_relative(data, X_reconstructed, coords_TF)\n",
    "    \n",
    "    return g_error, is_error, os_error, spars, X_n_opt\n",
    "\n",
    "def average_general_error(num_runs, rank, keep_ratio):\n",
    "    tolerance = 1e-4\n",
    "    max_iter = 100\n",
    "    \n",
    "    g_errors = []\n",
    "    is_errors = []\n",
    "    os_errors = []\n",
    "    spars_l = []\n",
    "    start = time.time()\n",
    "    for _ in range(num_runs):\n",
    "        print('\\n')\n",
    "        print('\\n')\n",
    "        print('\\n')\n",
    "        print('RUNNING',_)\n",
    "        print('\\n')\n",
    "        print('\\n')\n",
    "        print('\\n')\n",
    "        \n",
    "        g_error, is_error, os_error, spars, X_n_opt = run_nmf_and_compute_error(data, keep_ratio, tolerance, max_iter, rank)\n",
    "        \n",
    "        g_errors.append(g_error)\n",
    "        is_errors.append(is_error)\n",
    "        os_errors.append(os_error)\n",
    "        spars_l.append(spars)\n",
    "        \n",
    "    avg_time =  (time.time()-start)/num_runs\n",
    "    avg_spars = np.mean(spars_l)\n",
    "    avg_g_error = np.mean(g_errors)\n",
    "    avg_is_error = np.mean(is_errors)\n",
    "    avg_os_error = np.mean(os_errors)\n",
    "    \n",
    "    print('\\n \\n')\n",
    "    print(f\"At rank {rank} and keep ratio {keep_ratio}:\")\n",
    "    print(f\"Average General Error: {100*avg_g_error}%\")\n",
    "    print(f\"Average In-Sample Error: {100*avg_is_error}%\")\n",
    "    print(f\"Average Out-of-Sample Error: {100*avg_os_error}%\")\n",
    "    print(f\"Average Sparsity: {avg_spars}%\")\n",
    "    print(f\"Average Time: {avg_time:.2f} seconds\")\n",
    "    print(f\"Average Iterations: {max_iter:.2f}\")\n",
    "    print(\"\\n\")\n",
    "    \n",
    "    return avg_g_error, avg_is_error, avg_os_error, avg_spars, avg_time, X_n_opt\n",
    "\n"
   ]
  },
  {
   "cell_type": "code",
   "execution_count": 11,
   "id": "b2817b51",
   "metadata": {
    "scrolled": true
   },
   "outputs": [
    {
     "name": "stdout",
     "output_type": "stream",
     "text": [
      "\n",
      "\n",
      "\n",
      "\n",
      "\n",
      "\n",
      "RUNNING 0\n",
      "\n",
      "\n",
      "\n",
      "\n",
      "\n",
      "\n"
     ]
    },
    {
     "name": "stderr",
     "output_type": "stream",
     "text": [
      "C:\\Users\\kesol\\anaconda3\\lib\\site-packages\\sklearn\\decomposition\\_nmf.py:1665: ConvergenceWarning: Maximum number of iterations 100 reached. Increase it to improve convergence.\n",
      "  warnings.warn(\n"
     ]
    },
    {
     "name": "stdout",
     "output_type": "stream",
     "text": [
      "0.0\n",
      "\n",
      "\n",
      "\n",
      "\n",
      "\n",
      "\n",
      "RUNNING 1\n",
      "\n",
      "\n",
      "\n",
      "\n",
      "\n",
      "\n"
     ]
    },
    {
     "name": "stderr",
     "output_type": "stream",
     "text": [
      "C:\\Users\\kesol\\anaconda3\\lib\\site-packages\\sklearn\\decomposition\\_nmf.py:1665: ConvergenceWarning: Maximum number of iterations 100 reached. Increase it to improve convergence.\n",
      "  warnings.warn(\n"
     ]
    },
    {
     "name": "stdout",
     "output_type": "stream",
     "text": [
      "0.0\n",
      "\n",
      "\n",
      "\n",
      "\n",
      "\n",
      "\n",
      "RUNNING 2\n",
      "\n",
      "\n",
      "\n",
      "\n",
      "\n",
      "\n"
     ]
    },
    {
     "name": "stderr",
     "output_type": "stream",
     "text": [
      "C:\\Users\\kesol\\anaconda3\\lib\\site-packages\\sklearn\\decomposition\\_nmf.py:1665: ConvergenceWarning: Maximum number of iterations 100 reached. Increase it to improve convergence.\n",
      "  warnings.warn(\n"
     ]
    },
    {
     "name": "stdout",
     "output_type": "stream",
     "text": [
      "0.0\n",
      "\n",
      "\n",
      "\n",
      "\n",
      "\n",
      "\n",
      "RUNNING 3\n",
      "\n",
      "\n",
      "\n",
      "\n",
      "\n",
      "\n"
     ]
    },
    {
     "name": "stderr",
     "output_type": "stream",
     "text": [
      "C:\\Users\\kesol\\anaconda3\\lib\\site-packages\\sklearn\\decomposition\\_nmf.py:1665: ConvergenceWarning: Maximum number of iterations 100 reached. Increase it to improve convergence.\n",
      "  warnings.warn(\n"
     ]
    },
    {
     "name": "stdout",
     "output_type": "stream",
     "text": [
      "0.0\n",
      "\n",
      "\n",
      "\n",
      "\n",
      "\n",
      "\n",
      "RUNNING 4\n",
      "\n",
      "\n",
      "\n",
      "\n",
      "\n",
      "\n"
     ]
    },
    {
     "name": "stderr",
     "output_type": "stream",
     "text": [
      "C:\\Users\\kesol\\anaconda3\\lib\\site-packages\\sklearn\\decomposition\\_nmf.py:1665: ConvergenceWarning: Maximum number of iterations 100 reached. Increase it to improve convergence.\n",
      "  warnings.warn(\n"
     ]
    },
    {
     "name": "stdout",
     "output_type": "stream",
     "text": [
      "0.0\n",
      "\n",
      " \n",
      "\n",
      "At rank 10 and keep ratio 0.5:\n",
      "Average General Error: 53.023019541580126%\n",
      "Average In-Sample Error: 51.303041793626356%\n",
      "Average Out-of-Sample Error: 54.68695682678286%\n",
      "Average Sparsity: 0.0%\n",
      "Average Time: 10.56 seconds\n",
      "Average Iterations: 100.00\n",
      "\n",
      "\n"
     ]
    }
   ],
   "source": [
    "avg_g_error, avg_is_error, avg_os_error, avg_spars, avg_time = average_general_error(num_runs=5, rank=10, keep_ratio=0.5)"
   ]
  },
  {
   "cell_type": "code",
   "execution_count": 12,
   "id": "06e8bdac",
   "metadata": {
    "scrolled": true
   },
   "outputs": [
    {
     "name": "stdout",
     "output_type": "stream",
     "text": [
      "\n",
      "\n",
      "\n",
      "\n",
      "\n",
      "\n",
      "RUNNING 0\n",
      "\n",
      "\n",
      "\n",
      "\n",
      "\n",
      "\n"
     ]
    },
    {
     "name": "stderr",
     "output_type": "stream",
     "text": [
      "C:\\Users\\kesol\\anaconda3\\lib\\site-packages\\sklearn\\decomposition\\_nmf.py:1665: ConvergenceWarning: Maximum number of iterations 100 reached. Increase it to improve convergence.\n",
      "  warnings.warn(\n"
     ]
    },
    {
     "name": "stdout",
     "output_type": "stream",
     "text": [
      "0.0\n",
      "\n",
      "\n",
      "\n",
      "\n",
      "\n",
      "\n",
      "RUNNING 1\n",
      "\n",
      "\n",
      "\n",
      "\n",
      "\n",
      "\n"
     ]
    },
    {
     "name": "stderr",
     "output_type": "stream",
     "text": [
      "C:\\Users\\kesol\\anaconda3\\lib\\site-packages\\sklearn\\decomposition\\_nmf.py:1665: ConvergenceWarning: Maximum number of iterations 100 reached. Increase it to improve convergence.\n",
      "  warnings.warn(\n"
     ]
    },
    {
     "name": "stdout",
     "output_type": "stream",
     "text": [
      "0.0\n",
      "\n",
      "\n",
      "\n",
      "\n",
      "\n",
      "\n",
      "RUNNING 2\n",
      "\n",
      "\n",
      "\n",
      "\n",
      "\n",
      "\n"
     ]
    },
    {
     "name": "stderr",
     "output_type": "stream",
     "text": [
      "C:\\Users\\kesol\\anaconda3\\lib\\site-packages\\sklearn\\decomposition\\_nmf.py:1665: ConvergenceWarning: Maximum number of iterations 100 reached. Increase it to improve convergence.\n",
      "  warnings.warn(\n"
     ]
    },
    {
     "name": "stdout",
     "output_type": "stream",
     "text": [
      "0.0\n",
      "\n",
      "\n",
      "\n",
      "\n",
      "\n",
      "\n",
      "RUNNING 3\n",
      "\n",
      "\n",
      "\n",
      "\n",
      "\n",
      "\n"
     ]
    },
    {
     "name": "stderr",
     "output_type": "stream",
     "text": [
      "C:\\Users\\kesol\\anaconda3\\lib\\site-packages\\sklearn\\decomposition\\_nmf.py:1665: ConvergenceWarning: Maximum number of iterations 100 reached. Increase it to improve convergence.\n",
      "  warnings.warn(\n"
     ]
    },
    {
     "name": "stdout",
     "output_type": "stream",
     "text": [
      "0.0\n",
      "\n",
      "\n",
      "\n",
      "\n",
      "\n",
      "\n",
      "RUNNING 4\n",
      "\n",
      "\n",
      "\n",
      "\n",
      "\n",
      "\n"
     ]
    },
    {
     "name": "stderr",
     "output_type": "stream",
     "text": [
      "C:\\Users\\kesol\\anaconda3\\lib\\site-packages\\sklearn\\decomposition\\_nmf.py:1665: ConvergenceWarning: Maximum number of iterations 100 reached. Increase it to improve convergence.\n",
      "  warnings.warn(\n"
     ]
    },
    {
     "name": "stdout",
     "output_type": "stream",
     "text": [
      "0.0\n",
      "\n",
      " \n",
      "\n",
      "At rank 10 and keep ratio 0.3:\n",
      "Average General Error: 71.84106057505136%\n",
      "Average In-Sample Error: 68.75822705878866%\n",
      "Average Out-of-Sample Error: 73.11904117088176%\n",
      "Average Sparsity: 0.0%\n",
      "Average Time: 9.88 seconds\n",
      "Average Iterations: 100.00\n",
      "\n",
      "\n"
     ]
    }
   ],
   "source": [
    "avg_g_error, avg_is_error, avg_os_error, avg_spars, avg_time = average_general_error(num_runs=5, rank=10, keep_ratio=0.3)"
   ]
  },
  {
   "cell_type": "code",
   "execution_count": 13,
   "id": "3ec10bd6",
   "metadata": {
    "scrolled": true
   },
   "outputs": [
    {
     "name": "stdout",
     "output_type": "stream",
     "text": [
      "\n",
      "\n",
      "\n",
      "\n",
      "\n",
      "\n",
      "RUNNING 0\n",
      "\n",
      "\n",
      "\n",
      "\n",
      "\n",
      "\n"
     ]
    },
    {
     "name": "stderr",
     "output_type": "stream",
     "text": [
      "C:\\Users\\kesol\\anaconda3\\lib\\site-packages\\sklearn\\decomposition\\_nmf.py:1665: ConvergenceWarning: Maximum number of iterations 100 reached. Increase it to improve convergence.\n",
      "  warnings.warn(\n"
     ]
    },
    {
     "name": "stdout",
     "output_type": "stream",
     "text": [
      "0.0\n",
      "\n",
      "\n",
      "\n",
      "\n",
      "\n",
      "\n",
      "RUNNING 1\n",
      "\n",
      "\n",
      "\n",
      "\n",
      "\n",
      "\n"
     ]
    },
    {
     "name": "stderr",
     "output_type": "stream",
     "text": [
      "C:\\Users\\kesol\\anaconda3\\lib\\site-packages\\sklearn\\decomposition\\_nmf.py:1665: ConvergenceWarning: Maximum number of iterations 100 reached. Increase it to improve convergence.\n",
      "  warnings.warn(\n"
     ]
    },
    {
     "name": "stdout",
     "output_type": "stream",
     "text": [
      "0.0\n",
      "\n",
      "\n",
      "\n",
      "\n",
      "\n",
      "\n",
      "RUNNING 2\n",
      "\n",
      "\n",
      "\n",
      "\n",
      "\n",
      "\n"
     ]
    },
    {
     "name": "stderr",
     "output_type": "stream",
     "text": [
      "C:\\Users\\kesol\\anaconda3\\lib\\site-packages\\sklearn\\decomposition\\_nmf.py:1665: ConvergenceWarning: Maximum number of iterations 100 reached. Increase it to improve convergence.\n",
      "  warnings.warn(\n"
     ]
    },
    {
     "name": "stdout",
     "output_type": "stream",
     "text": [
      "0.0\n",
      "\n",
      "\n",
      "\n",
      "\n",
      "\n",
      "\n",
      "RUNNING 3\n",
      "\n",
      "\n",
      "\n",
      "\n",
      "\n",
      "\n"
     ]
    },
    {
     "name": "stderr",
     "output_type": "stream",
     "text": [
      "C:\\Users\\kesol\\anaconda3\\lib\\site-packages\\sklearn\\decomposition\\_nmf.py:1665: ConvergenceWarning: Maximum number of iterations 100 reached. Increase it to improve convergence.\n",
      "  warnings.warn(\n"
     ]
    },
    {
     "name": "stdout",
     "output_type": "stream",
     "text": [
      "0.0\n",
      "\n",
      "\n",
      "\n",
      "\n",
      "\n",
      "\n",
      "RUNNING 4\n",
      "\n",
      "\n",
      "\n",
      "\n",
      "\n",
      "\n"
     ]
    },
    {
     "name": "stderr",
     "output_type": "stream",
     "text": [
      "C:\\Users\\kesol\\anaconda3\\lib\\site-packages\\sklearn\\decomposition\\_nmf.py:1665: ConvergenceWarning: Maximum number of iterations 100 reached. Increase it to improve convergence.\n",
      "  warnings.warn(\n"
     ]
    },
    {
     "name": "stdout",
     "output_type": "stream",
     "text": [
      "0.0\n",
      "\n",
      " \n",
      "\n",
      "At rank 25 and keep ratio 0.5:\n",
      "Average General Error: 54.938390609668296%\n",
      "Average In-Sample Error: 47.285606150882025%\n",
      "Average Out-of-Sample Error: 61.6363469077499%\n",
      "Average Sparsity: 0.0%\n",
      "Average Time: 12.82 seconds\n",
      "Average Iterations: 100.00\n",
      "\n",
      "\n"
     ]
    }
   ],
   "source": [
    "avg_g_error, avg_is_error, avg_os_error, avg_spars, avg_time = average_general_error(num_runs=5, rank=25, keep_ratio=0.5)"
   ]
  },
  {
   "cell_type": "code",
   "execution_count": 14,
   "id": "3f395639",
   "metadata": {
    "scrolled": true
   },
   "outputs": [
    {
     "name": "stdout",
     "output_type": "stream",
     "text": [
      "\n",
      "\n",
      "\n",
      "\n",
      "\n",
      "\n",
      "RUNNING 0\n",
      "\n",
      "\n",
      "\n",
      "\n",
      "\n",
      "\n"
     ]
    },
    {
     "name": "stderr",
     "output_type": "stream",
     "text": [
      "C:\\Users\\kesol\\anaconda3\\lib\\site-packages\\sklearn\\decomposition\\_nmf.py:1665: ConvergenceWarning: Maximum number of iterations 100 reached. Increase it to improve convergence.\n",
      "  warnings.warn(\n"
     ]
    },
    {
     "name": "stdout",
     "output_type": "stream",
     "text": [
      "0.0\n",
      "\n",
      "\n",
      "\n",
      "\n",
      "\n",
      "\n",
      "RUNNING 1\n",
      "\n",
      "\n",
      "\n",
      "\n",
      "\n",
      "\n"
     ]
    },
    {
     "name": "stderr",
     "output_type": "stream",
     "text": [
      "C:\\Users\\kesol\\anaconda3\\lib\\site-packages\\sklearn\\decomposition\\_nmf.py:1665: ConvergenceWarning: Maximum number of iterations 100 reached. Increase it to improve convergence.\n",
      "  warnings.warn(\n"
     ]
    },
    {
     "name": "stdout",
     "output_type": "stream",
     "text": [
      "0.0\n",
      "\n",
      "\n",
      "\n",
      "\n",
      "\n",
      "\n",
      "RUNNING 2\n",
      "\n",
      "\n",
      "\n",
      "\n",
      "\n",
      "\n"
     ]
    },
    {
     "name": "stderr",
     "output_type": "stream",
     "text": [
      "C:\\Users\\kesol\\anaconda3\\lib\\site-packages\\sklearn\\decomposition\\_nmf.py:1665: ConvergenceWarning: Maximum number of iterations 100 reached. Increase it to improve convergence.\n",
      "  warnings.warn(\n"
     ]
    },
    {
     "name": "stdout",
     "output_type": "stream",
     "text": [
      "0.0\n",
      "\n",
      "\n",
      "\n",
      "\n",
      "\n",
      "\n",
      "RUNNING 3\n",
      "\n",
      "\n",
      "\n",
      "\n",
      "\n",
      "\n"
     ]
    },
    {
     "name": "stderr",
     "output_type": "stream",
     "text": [
      "C:\\Users\\kesol\\anaconda3\\lib\\site-packages\\sklearn\\decomposition\\_nmf.py:1665: ConvergenceWarning: Maximum number of iterations 100 reached. Increase it to improve convergence.\n",
      "  warnings.warn(\n"
     ]
    },
    {
     "name": "stdout",
     "output_type": "stream",
     "text": [
      "0.0\n",
      "\n",
      "\n",
      "\n",
      "\n",
      "\n",
      "\n",
      "RUNNING 4\n",
      "\n",
      "\n",
      "\n",
      "\n",
      "\n",
      "\n"
     ]
    },
    {
     "name": "stderr",
     "output_type": "stream",
     "text": [
      "C:\\Users\\kesol\\anaconda3\\lib\\site-packages\\sklearn\\decomposition\\_nmf.py:1665: ConvergenceWarning: Maximum number of iterations 100 reached. Increase it to improve convergence.\n",
      "  warnings.warn(\n"
     ]
    },
    {
     "name": "stdout",
     "output_type": "stream",
     "text": [
      "0.0\n",
      "\n",
      " \n",
      "\n",
      "At rank 25 and keep ratio 0.3:\n",
      "Average General Error: 73.3779562504368%\n",
      "Average In-Sample Error: 61.217725198506535%\n",
      "Average Out-of-Sample Error: 78.00212263464468%\n",
      "Average Sparsity: 0.0%\n",
      "Average Time: 11.92 seconds\n",
      "Average Iterations: 100.00\n",
      "\n",
      "\n"
     ]
    }
   ],
   "source": [
    "avg_g_error, avg_is_error, avg_os_error, avg_spars, avg_time = average_general_error(num_runs=5, rank=25, keep_ratio=0.3)"
   ]
  },
  {
   "cell_type": "code",
   "execution_count": 15,
   "id": "9ad97835",
   "metadata": {
    "scrolled": true
   },
   "outputs": [
    {
     "name": "stdout",
     "output_type": "stream",
     "text": [
      "\n",
      "\n",
      "\n",
      "\n",
      "\n",
      "\n",
      "RUNNING 0\n",
      "\n",
      "\n",
      "\n",
      "\n",
      "\n",
      "\n"
     ]
    },
    {
     "name": "stderr",
     "output_type": "stream",
     "text": [
      "C:\\Users\\kesol\\anaconda3\\lib\\site-packages\\sklearn\\decomposition\\_nmf.py:1665: ConvergenceWarning: Maximum number of iterations 100 reached. Increase it to improve convergence.\n",
      "  warnings.warn(\n"
     ]
    },
    {
     "name": "stdout",
     "output_type": "stream",
     "text": [
      "0.0\n",
      "\n",
      "\n",
      "\n",
      "\n",
      "\n",
      "\n",
      "RUNNING 1\n",
      "\n",
      "\n",
      "\n",
      "\n",
      "\n",
      "\n"
     ]
    },
    {
     "name": "stderr",
     "output_type": "stream",
     "text": [
      "C:\\Users\\kesol\\anaconda3\\lib\\site-packages\\sklearn\\decomposition\\_nmf.py:1665: ConvergenceWarning: Maximum number of iterations 100 reached. Increase it to improve convergence.\n",
      "  warnings.warn(\n"
     ]
    },
    {
     "name": "stdout",
     "output_type": "stream",
     "text": [
      "0.0\n",
      "\n",
      "\n",
      "\n",
      "\n",
      "\n",
      "\n",
      "RUNNING 2\n",
      "\n",
      "\n",
      "\n",
      "\n",
      "\n",
      "\n"
     ]
    },
    {
     "name": "stderr",
     "output_type": "stream",
     "text": [
      "C:\\Users\\kesol\\anaconda3\\lib\\site-packages\\sklearn\\decomposition\\_nmf.py:1665: ConvergenceWarning: Maximum number of iterations 100 reached. Increase it to improve convergence.\n",
      "  warnings.warn(\n"
     ]
    },
    {
     "name": "stdout",
     "output_type": "stream",
     "text": [
      "0.0\n",
      "\n",
      "\n",
      "\n",
      "\n",
      "\n",
      "\n",
      "RUNNING 3\n",
      "\n",
      "\n",
      "\n",
      "\n",
      "\n",
      "\n"
     ]
    },
    {
     "name": "stderr",
     "output_type": "stream",
     "text": [
      "C:\\Users\\kesol\\anaconda3\\lib\\site-packages\\sklearn\\decomposition\\_nmf.py:1665: ConvergenceWarning: Maximum number of iterations 100 reached. Increase it to improve convergence.\n",
      "  warnings.warn(\n"
     ]
    },
    {
     "name": "stdout",
     "output_type": "stream",
     "text": [
      "0.0\n",
      "\n",
      "\n",
      "\n",
      "\n",
      "\n",
      "\n",
      "RUNNING 4\n",
      "\n",
      "\n",
      "\n",
      "\n",
      "\n",
      "\n"
     ]
    },
    {
     "name": "stderr",
     "output_type": "stream",
     "text": [
      "C:\\Users\\kesol\\anaconda3\\lib\\site-packages\\sklearn\\decomposition\\_nmf.py:1665: ConvergenceWarning: Maximum number of iterations 100 reached. Increase it to improve convergence.\n",
      "  warnings.warn(\n"
     ]
    },
    {
     "name": "stdout",
     "output_type": "stream",
     "text": [
      "0.0\n",
      "\n",
      " \n",
      "\n",
      "At rank 50 and keep ratio 0.5:\n",
      "Average General Error: 57.20941215185196%\n",
      "Average In-Sample Error: 43.57834326869502%\n",
      "Average Out-of-Sample Error: 68.17304854327135%\n",
      "Average Sparsity: 0.0%\n",
      "Average Time: 16.91 seconds\n",
      "Average Iterations: 100.00\n",
      "\n",
      "\n"
     ]
    }
   ],
   "source": [
    "avg_g_error, avg_is_error, avg_os_error, avg_spars, avg_time = average_general_error(num_runs=5, rank=50, keep_ratio=0.5)"
   ]
  },
  {
   "cell_type": "code",
   "execution_count": 16,
   "id": "74a95dbd",
   "metadata": {
    "scrolled": true
   },
   "outputs": [
    {
     "name": "stdout",
     "output_type": "stream",
     "text": [
      "\n",
      "\n",
      "\n",
      "\n",
      "\n",
      "\n",
      "RUNNING 0\n",
      "\n",
      "\n",
      "\n",
      "\n",
      "\n",
      "\n"
     ]
    },
    {
     "name": "stderr",
     "output_type": "stream",
     "text": [
      "C:\\Users\\kesol\\anaconda3\\lib\\site-packages\\sklearn\\decomposition\\_nmf.py:1665: ConvergenceWarning: Maximum number of iterations 100 reached. Increase it to improve convergence.\n",
      "  warnings.warn(\n"
     ]
    },
    {
     "name": "stdout",
     "output_type": "stream",
     "text": [
      "0.0\n",
      "\n",
      "\n",
      "\n",
      "\n",
      "\n",
      "\n",
      "RUNNING 1\n",
      "\n",
      "\n",
      "\n",
      "\n",
      "\n",
      "\n"
     ]
    },
    {
     "name": "stderr",
     "output_type": "stream",
     "text": [
      "C:\\Users\\kesol\\anaconda3\\lib\\site-packages\\sklearn\\decomposition\\_nmf.py:1665: ConvergenceWarning: Maximum number of iterations 100 reached. Increase it to improve convergence.\n",
      "  warnings.warn(\n"
     ]
    },
    {
     "name": "stdout",
     "output_type": "stream",
     "text": [
      "0.0\n",
      "\n",
      "\n",
      "\n",
      "\n",
      "\n",
      "\n",
      "RUNNING 2\n",
      "\n",
      "\n",
      "\n",
      "\n",
      "\n",
      "\n"
     ]
    },
    {
     "name": "stderr",
     "output_type": "stream",
     "text": [
      "C:\\Users\\kesol\\anaconda3\\lib\\site-packages\\sklearn\\decomposition\\_nmf.py:1665: ConvergenceWarning: Maximum number of iterations 100 reached. Increase it to improve convergence.\n",
      "  warnings.warn(\n"
     ]
    },
    {
     "name": "stdout",
     "output_type": "stream",
     "text": [
      "0.0\n",
      "\n",
      "\n",
      "\n",
      "\n",
      "\n",
      "\n",
      "RUNNING 3\n",
      "\n",
      "\n",
      "\n",
      "\n",
      "\n",
      "\n"
     ]
    },
    {
     "name": "stderr",
     "output_type": "stream",
     "text": [
      "C:\\Users\\kesol\\anaconda3\\lib\\site-packages\\sklearn\\decomposition\\_nmf.py:1665: ConvergenceWarning: Maximum number of iterations 100 reached. Increase it to improve convergence.\n",
      "  warnings.warn(\n"
     ]
    },
    {
     "name": "stdout",
     "output_type": "stream",
     "text": [
      "0.0\n",
      "\n",
      "\n",
      "\n",
      "\n",
      "\n",
      "\n",
      "RUNNING 4\n",
      "\n",
      "\n",
      "\n",
      "\n",
      "\n",
      "\n"
     ]
    },
    {
     "name": "stderr",
     "output_type": "stream",
     "text": [
      "C:\\Users\\kesol\\anaconda3\\lib\\site-packages\\sklearn\\decomposition\\_nmf.py:1665: ConvergenceWarning: Maximum number of iterations 100 reached. Increase it to improve convergence.\n",
      "  warnings.warn(\n"
     ]
    },
    {
     "name": "stdout",
     "output_type": "stream",
     "text": [
      "0.0\n",
      "\n",
      " \n",
      "\n",
      "At rank 50 and keep ratio 0.3:\n",
      "Average General Error: 75.37039298281643%\n",
      "Average In-Sample Error: 55.41768875640719%\n",
      "Average Out-of-Sample Error: 82.43700084222837%\n",
      "Average Sparsity: 0.0%\n",
      "Average Time: 15.32 seconds\n",
      "Average Iterations: 100.00\n",
      "\n",
      "\n"
     ]
    }
   ],
   "source": [
    "avg_g_error, avg_is_error, avg_os_error, avg_spars, avg_time = average_general_error(num_runs=5, rank=50, keep_ratio=0.3)"
   ]
  },
  {
   "cell_type": "code",
   "execution_count": 15,
   "id": "f9c17f19",
   "metadata": {},
   "outputs": [
    {
     "name": "stdout",
     "output_type": "stream",
     "text": [
      "\n",
      "\n",
      "\n",
      "\n",
      "\n",
      "\n",
      "RUNNING 0\n",
      "\n",
      "\n",
      "\n",
      "\n",
      "\n",
      "\n"
     ]
    },
    {
     "name": "stderr",
     "output_type": "stream",
     "text": [
      "C:\\Users\\kesol\\anaconda3\\lib\\site-packages\\sklearn\\decomposition\\_nmf.py:1665: ConvergenceWarning: Maximum number of iterations 100 reached. Increase it to improve convergence.\n",
      "  warnings.warn(\n"
     ]
    },
    {
     "name": "stdout",
     "output_type": "stream",
     "text": [
      "0.0\n",
      "\n",
      " \n",
      "\n",
      "At rank 50 and keep ratio 0.5:\n",
      "Average General Error: 57.21993602384988%\n",
      "Average In-Sample Error: 42.7420849064751%\n",
      "Average Out-of-Sample Error: 68.74160300131203%\n",
      "Average Sparsity: 0.0%\n",
      "Average Time: 20.57 seconds\n",
      "Average Iterations: 100.00\n",
      "\n",
      "\n"
     ]
    }
   ],
   "source": [
    "avg_g_error, avg_is_error, avg_os_error, avg_spars, avg_time, X_n_opt = average_general_error(num_runs=1, rank=50, keep_ratio=0.5)"
   ]
  },
  {
   "cell_type": "code",
   "execution_count": 16,
   "id": "22b30866",
   "metadata": {},
   "outputs": [],
   "source": [
    "np.savez_compressed('Out/MU_50', data=X_n_opt)"
   ]
  }
 ],
 "metadata": {
  "kernelspec": {
   "display_name": "Python 3 (ipykernel)",
   "language": "python",
   "name": "python3"
  },
  "language_info": {
   "codemirror_mode": {
    "name": "ipython",
    "version": 3
   },
   "file_extension": ".py",
   "mimetype": "text/x-python",
   "name": "python",
   "nbconvert_exporter": "python",
   "pygments_lexer": "ipython3",
   "version": "3.10.9"
  }
 },
 "nbformat": 4,
 "nbformat_minor": 5
}
