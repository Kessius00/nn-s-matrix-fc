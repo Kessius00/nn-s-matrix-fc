{
 "cells": [
  {
   "cell_type": "code",
   "execution_count": 2,
   "metadata": {},
   "outputs": [],
   "source": [
    "\n",
    "import matplotlib.pyplot as plt\n",
    "import matplotlib.colors as mcolors\n",
    "import numpy as np\n",
    "import time\n",
    "import random\n",
    "import scipy.stats as stats\n",
    "from scipy.sparse import *\n",
    "from visualizingData import *\n",
    "from clipping import *\n",
    "import os"
   ]
  },
  {
   "cell_type": "code",
   "execution_count": 4,
   "metadata": {},
   "outputs": [
    {
     "name": "stdout",
     "output_type": "stream",
     "text": [
      "['selected_B', 'shape', 'mz']\n"
     ]
    }
   ],
   "source": [
    "# Load the data from the specified .npz file\n",
    "fileSIMS = np.load(\".\\\\SIMS.npz\", allow_pickle=True)\n",
    "\n",
    "# # Extract the necessary components from the file\n",
    "print(fileSIMS.files)\n",
    "\n",
    "selected_B = fileSIMS['selected_B'][()]\n",
    "shape = fileSIMS['shape'][()]\n",
    "mz_values = fileSIMS['mz'][()]\n",
    "\n"
   ]
  },
  {
   "cell_type": "code",
   "execution_count": 6,
   "metadata": {},
   "outputs": [
    {
     "data": {
      "text/plain": [
       "0.05285012716917661"
      ]
     },
     "execution_count": 6,
     "metadata": {},
     "output_type": "execute_result"
    }
   ],
   "source": [
    "selected_B.nnz/np.prod(selected_B.shape)\n"
   ]
  },
  {
   "cell_type": "code",
   "execution_count": null,
   "metadata": {},
   "outputs": [],
   "source": [
    "# als je de sims of qtof om will zetten in een matrix die je miss wilt zien\n",
    "dense_matrix_format = selected_B.toarray()\n",
    "nans_matrix=np.where(dense_matrix_format==0, np.nan, dense_matrix_format)\n",
    "print('nu al klaar met nans')\n",
    "visualizeData(nans_matrix)"
   ]
  },
  {
   "cell_type": "code",
   "execution_count": null,
   "metadata": {},
   "outputs": [],
   "source": []
  }
 ],
 "metadata": {
  "kernelspec": {
   "display_name": "base",
   "language": "python",
   "name": "python3"
  },
  "language_info": {
   "codemirror_mode": {
    "name": "ipython",
    "version": 3
   },
   "file_extension": ".py",
   "mimetype": "text/x-python",
   "name": "python",
   "nbconvert_exporter": "python",
   "pygments_lexer": "ipython3",
   "version": "3.10.9"
  }
 },
 "nbformat": 4,
 "nbformat_minor": 2
}
