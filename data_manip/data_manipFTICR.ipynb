{
 "cells": [
  {
   "cell_type": "code",
   "execution_count": 1,
   "metadata": {},
   "outputs": [],
   "source": [
    "\n",
    "import matplotlib.pyplot as plt\n",
    "import matplotlib.colors as mcolors\n",
    "import numpy as np\n",
    "import time\n",
    "import random\n",
    "import scipy.stats as stats\n",
    "from scipy.sparse import *\n",
    "from visualizingData import *\n",
    "from clipping import *\n",
    "from other import *\n",
    "import os"
   ]
  },
  {
   "cell_type": "code",
   "execution_count": 2,
   "metadata": {},
   "outputs": [
    {
     "name": "stdout",
     "output_type": "stream",
     "text": [
      "['selected_B', 'shape', 'mz']\n"
     ]
    }
   ],
   "source": [
    "# Load the data from the specified .npz file\n",
    "file = np.load(\".\\\\provided_data\\\\FTICR.npz\", allow_pickle=True)\n",
    "\n",
    "# # Extract the necessary components from the file\n",
    "print(file.files)\n",
    "\n",
    "selected_B = file['selected_B'][()]\n",
    "shape = file['shape'][()]\n",
    "mz_values = file['mz'][()]\n",
    "\n"
   ]
  },
  {
   "cell_type": "code",
   "execution_count": 3,
   "metadata": {},
   "outputs": [],
   "source": [
    "# csc_matrix(selected_B).nnz/np.prod(selected_B.shape)\n"
   ]
  },
  {
   "cell_type": "code",
   "execution_count": 4,
   "metadata": {},
   "outputs": [
    {
     "data": {
      "text/plain": [
       "(400, 1372421)"
      ]
     },
     "execution_count": 4,
     "metadata": {},
     "output_type": "execute_result"
    }
   ],
   "source": [
    "selected_B.shape"
   ]
  },
  {
   "cell_type": "code",
   "execution_count": 5,
   "metadata": {},
   "outputs": [],
   "source": [
    "# massbins = find_massbins(dense_matrix=selected_B)"
   ]
  },
  {
   "cell_type": "code",
   "execution_count": 6,
   "metadata": {},
   "outputs": [],
   "source": [
    "# top_massbins = massbins[37:]\n",
    "# for mz in top_massbins:\n",
    "#     visualizeMassBin(dense_matrix=selected_B, massbin=mz, shape=(20,20))\n",
    "    "
   ]
  },
  {
   "cell_type": "code",
   "execution_count": 7,
   "metadata": {},
   "outputs": [],
   "source": [
    "uniform_keep_ratios = np.array([9,7,5,4,2])/10\n",
    "threshold_keep_ratios = keep_small_percentage(uniform_keep_ratios)"
   ]
  },
  {
   "cell_type": "code",
   "execution_count": 8,
   "metadata": {},
   "outputs": [
    {
     "name": "stdout",
     "output_type": "stream",
     "text": [
      "uni = 90.0\n",
      "clipped = 11.111111111111112\n",
      "\n",
      "done\n",
      "uni = 70.0\n",
      "clipped = 14.285714285714288\n",
      "\n",
      "done\n",
      "uni = 50.0\n",
      "clipped = 20.0\n",
      "\n",
      "done\n",
      "uni = 40.0\n",
      "clipped = 25.0\n",
      "\n",
      "done\n",
      "uni = 20.0\n",
      "clipped = 50.0\n",
      "\n",
      "done\n"
     ]
    }
   ],
   "source": [
    "selected_B_clipped = []\n",
    "masks = []\n",
    "\n",
    "for i in range(len(uniform_keep_ratios)):\n",
    "    \n",
    "    print(f'uni = {uniform_keep_ratios[i]*100}')\n",
    "    print(f'clipped = {threshold_keep_ratios[i]*100}\\n')\n",
    "    clipped_sel_B, mask =  partlyDiscardedClipping(selected_B, uniform_ratio_keep=uniform_keep_ratios[i], threshold_ratio_keep=threshold_keep_ratios[i])\n",
    "    # zeroCalculator(clipped_sel_B)\n",
    "    selected_B_clipped.append(clipped_sel_B)\n",
    "    masks.append(mask)\n",
    "    print('done')\n",
    "    \n",
    "    "
   ]
  },
  {
   "cell_type": "code",
   "execution_count": 9,
   "metadata": {},
   "outputs": [
    {
     "data": {
      "text/plain": [
       "5"
      ]
     },
     "execution_count": 9,
     "metadata": {},
     "output_type": "execute_result"
    }
   ],
   "source": [
    "len(masks)"
   ]
  },
  {
   "cell_type": "code",
   "execution_count": 12,
   "metadata": {},
   "outputs": [],
   "source": [
    "\n",
    "# Define the folder name where you want to save the files\n",
    "save_folder = \"fticr_data_clippings\"  # Replace with any folder name you'd like\n",
    "\n",
    "# Create the folder in the same directory as the script, if it doesn't exist\n",
    "os.makedirs(save_folder, exist_ok=True)"
   ]
  },
  {
   "cell_type": "code",
   "execution_count": 13,
   "metadata": {},
   "outputs": [],
   "source": [
    "i = 0\n",
    "for sel_clip in selected_B_clipped:\n",
    "    csc = csc_matrix(sel_clip)\n",
    "    np.save(os.path.join(save_folder, f'FTICR_{i}_uni{round(100*uniform_keep_ratios[i])}_cli{round(100*threshold_keep_ratios[i])}.npy'), csc )\n",
    "    \n",
    "    i +=1\n",
    "    \n",
    "\n",
    "    "
   ]
  },
  {
   "cell_type": "code",
   "execution_count": 14,
   "metadata": {},
   "outputs": [],
   "source": [
    "i=0\n",
    "for mask in masks:\n",
    "    csc = csc_matrix(mask)\n",
    "    np.save(os.path.join(save_folder, f'MASK{i}_uni{round(100*uniform_keep_ratios[i])}_cli{round(100*threshold_keep_ratios[i])}.npy'), csc )\n",
    "    \n",
    "    i +=1"
   ]
  },
  {
   "cell_type": "code",
   "execution_count": null,
   "metadata": {},
   "outputs": [],
   "source": []
  }
 ],
 "metadata": {
  "kernelspec": {
   "display_name": "base",
   "language": "python",
   "name": "python3"
  },
  "language_info": {
   "codemirror_mode": {
    "name": "ipython",
    "version": 3
   },
   "file_extension": ".py",
   "mimetype": "text/x-python",
   "name": "python",
   "nbconvert_exporter": "python",
   "pygments_lexer": "ipython3",
   "version": "3.10.9"
  }
 },
 "nbformat": 4,
 "nbformat_minor": 2
}
