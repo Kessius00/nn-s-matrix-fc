{
 "cells": [
  {
   "cell_type": "code",
   "execution_count": null,
   "metadata": {},
   "outputs": [],
   "source": [
    "import random \n",
    "import cv2 \n",
    "\n",
    "def add_noise(img): \n",
    "\n",
    "\t# Getting the dimensions of the image \n",
    "\trow , col = img.shape \n",
    "\t\n",
    "\t# Randomly pick some pixels in the \n",
    "\t# image for coloring them white \n",
    "\t# Pick a random number between 300 and 10000 \n",
    "\tnumber_of_pixels = random.randint(300, 10000) \n",
    "\tfor i in range(number_of_pixels): \n",
    "\t\t\n",
    "\t\t# Pick a random y coordinate \n",
    "\t\ty_coord=random.randint(0, row - 1) \n",
    "\t\t\n",
    "\t\t# Pick a random x coordinate \n",
    "\t\tx_coord=random.randint(0, col - 1) \n",
    "\t\t\n",
    "\t\t# Color that pixel to white \n",
    "\t\timg[y_coord][x_coord] = 255\n",
    "\t\t\n",
    "\t# Randomly pick some pixels in \n",
    "\t# the image for coloring them black \n",
    "\t# Pick a random number between 300 and 10000 \n",
    "\tnumber_of_pixels = random.randint(300 , 10000) \n",
    "\tfor i in range(number_of_pixels): \n",
    "\t\t\n",
    "\t\t# Pick a random y coordinate \n",
    "\t\ty_coord=random.randint(0, row - 1) \n",
    "\t\t\n",
    "\t\t# Pick a random x coordinate \n",
    "\t\tx_coord=random.randint(0, col - 1) \n",
    "\t\t\n",
    "\t\t# Color that pixel to black \n",
    "\t\timg[y_coord][x_coord] = 0\n",
    "\t\t\n",
    "\treturn img \n",
    "\n",
    "# salt-and-pepper noise can \n",
    "# be applied only to grayscale images \n",
    "# Reading the color image in grayscale image \n",
    "img = cv2.imread('lena.jpg', \n",
    "\t\t\t\tcv2.IMREAD_GRAYSCALE) \n",
    "\n",
    "#Storing the image \n",
    "cv2.imwrite('salt-and-pepper-lena.jpg', \n",
    "\t\t\tadd_noise(img)) \n"
   ]
  }
 ],
 "metadata": {
  "kernelspec": {
   "display_name": "base",
   "language": "python",
   "name": "python3"
  },
  "language_info": {
   "name": "python",
   "version": "3.10.9"
  }
 },
 "nbformat": 4,
 "nbformat_minor": 2
}
