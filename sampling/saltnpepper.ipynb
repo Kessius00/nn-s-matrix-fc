{
 "cells": [
  {
   "cell_type": "markdown",
   "metadata": {},
   "source": [
    "# Adding a salt and pepper noise \n",
    "Using this tutorial\n",
    "https://www.geeksforgeeks.org/add-a-salt-and-pepper-noise-to-an-image-with-python/"
   ]
  },
  {
   "cell_type": "code",
   "execution_count": 2,
   "metadata": {},
   "outputs": [],
   "source": [
    "import random \n",
    "import cv2 \n"
   ]
  },
  {
   "cell_type": "code",
   "execution_count": 6,
   "metadata": {},
   "outputs": [
    {
     "name": "stdout",
     "output_type": "stream",
     "text": [
      "2268x4032 = 9144576 total pixels \n",
      "4148512 white pixels: 45.37%\n",
      "5960809 black pixels: 65.18%\n"
     ]
    },
    {
     "data": {
      "text/plain": [
       "True"
      ]
     },
     "execution_count": 6,
     "metadata": {},
     "output_type": "execute_result"
    }
   ],
   "source": [
    "\n",
    "def add_noise(img): \n",
    "\n",
    "\t# Getting the dimensions of the image \n",
    "\trow , col = img.shape \n",
    "\t\n",
    " \n",
    "\tprint(f'{row}x{col} = {row*col} total pixels ')\n",
    "\t# Randomly pick some pixels in the \n",
    "\t# image for coloring them white \n",
    "\t# Pick a random number between n_rows and total cells \n",
    "\tnumber_of_pixels = random.randint(row, row*col) \n",
    "\tprint(f'{number_of_pixels} white pixels: {round(number_of_pixels*100/(row*col),2)}%')\n",
    "\tfor i in range(number_of_pixels): \n",
    "\t\t\n",
    "\t\t# Pick a random y coordinate \n",
    "\t\ty_coord=random.randint(0, row - 1) \n",
    "\t\t\n",
    "\t\t# Pick a random x coordinate \n",
    "\t\tx_coord=random.randint(0, col - 1) \n",
    "\t\t\n",
    "\t\t# Color that pixel to white \n",
    "\t\timg[y_coord][x_coord] = 255\n",
    "\t\t\n",
    "\t# Randomly pick some pixels in \n",
    "\t# the image for coloring them black \n",
    "\t# Pick a random number between 300 and 10000 \n",
    "\tnumber_of_pixels = random.randint(row, row*col)\n",
    "\tprint(f'{number_of_pixels} black pixels: {round((number_of_pixels*100)/(row*col),2)}%') \n",
    "\tfor i in range(number_of_pixels): \n",
    "\t\t\n",
    "\t\t# Pick a random y coordinate \n",
    "\t\ty_coord=random.randint(0, row - 1) \n",
    "\t\t\n",
    "\t\t# Pick a random x coordinate \n",
    "\t\tx_coord=random.randint(0, col - 1) \n",
    "\t\t\n",
    "\t\t# Color that pixel to black \n",
    "\t\timg[y_coord][x_coord] = 0\n",
    "\t\t\n",
    "\treturn img \n",
    "\n",
    "# salt-and-pepper noise can \n",
    "# be applied only to grayscale images \n",
    "# Reading the color image in grayscale image \n",
    "img = cv2.imread('parkutrecht.jpg', \n",
    "\t\t\t\tcv2.IMREAD_GRAYSCALE) \n",
    "\n",
    "\n",
    "noised_version = add_noise(img)\n",
    "\n",
    "#Storing the image \n",
    "cv2.imwrite('salt-and-pepper-parkutrecht.jpg', \n",
    "\t\t\tnoised_version) \n"
   ]
  },
  {
   "cell_type": "code",
   "execution_count": 7,
   "metadata": {},
   "outputs": [],
   "source": [
    "cv2.imshow('image1', noised_version)\n",
    "cv2.waitKey(0)  # Wait for a key press\n",
    "cv2.destroyAllWindows()  # Close all OpenCV windows"
   ]
  },
  {
   "cell_type": "code",
   "execution_count": null,
   "metadata": {},
   "outputs": [],
   "source": [
    "# misschien 20% tot 70% van totale pixels distorten ipv nu x% tot 100%\n",
    "# misschien tracken alle posities die veranderd zijn, want sommige kunnen misschien overwrite worden door zwart\n",
    "# misschien omstebeurt ipv eerst alle wit en dan alle zwarte ==> want zwarte kunnen net zo goed alle witte puntjes overwriten\n",
    "# voor de lol kan ik het ook per laag van rgb doen "
   ]
  }
 ],
 "metadata": {
  "kernelspec": {
   "display_name": "base",
   "language": "python",
   "name": "python3"
  },
  "language_info": {
   "codemirror_mode": {
    "name": "ipython",
    "version": 3
   },
   "file_extension": ".py",
   "mimetype": "text/x-python",
   "name": "python",
   "nbconvert_exporter": "python",
   "pygments_lexer": "ipython3",
   "version": "3.10.9"
  }
 },
 "nbformat": 4,
 "nbformat_minor": 2
}
